{
 "cells": [
  {
   "cell_type": "markdown",
   "source": [
    "# 选择数据"
   ],
   "metadata": {
    "collapsed": false,
    "pycharm": {
     "name": "#%% md\n"
    }
   }
  },
  {
   "cell_type": "markdown",
   "source": [
    "首先生成数据以供使用："
   ],
   "metadata": {
    "collapsed": false,
    "pycharm": {
     "name": "#%% md\n"
    }
   }
  },
  {
   "cell_type": "code",
   "execution_count": 21,
   "outputs": [
    {
     "data": {
      "text/plain": "DatetimeIndex(['2020-01-31', '2020-02-29', '2020-03-31', '2020-04-30',\n               '2020-05-31', '2020-06-30'],\n              dtype='datetime64[ns]', freq='M')"
     },
     "execution_count": 21,
     "metadata": {},
     "output_type": "execute_result"
    }
   ],
   "source": [
    "import numpy as np\n",
    "import pandas as pd\n",
    "\n",
    "dates = pd.date_range('20200101', periods=6, freq='M')\n",
    "dates"
   ],
   "metadata": {
    "collapsed": false,
    "pycharm": {
     "name": "#%%\n"
    }
   }
  },
  {
   "cell_type": "code",
   "execution_count": 22,
   "outputs": [
    {
     "data": {
      "text/plain": "                   A         B         C         D\n2020-01-31  0.545802  0.010205  0.176416  0.402558\n2020-02-29  0.815496  0.838292  0.706108  0.002344\n2020-03-31  0.707482  0.947923  0.264894  0.134783\n2020-04-30  0.812991  0.122319  0.032697  0.339973\n2020-05-31  0.621796  0.909555  0.484812  0.768949\n2020-06-30  0.449415  0.031591  0.622136  0.109499",
      "text/html": "<div>\n<style scoped>\n    .dataframe tbody tr th:only-of-type {\n        vertical-align: middle;\n    }\n\n    .dataframe tbody tr th {\n        vertical-align: top;\n    }\n\n    .dataframe thead th {\n        text-align: right;\n    }\n</style>\n<table border=\"1\" class=\"dataframe\">\n  <thead>\n    <tr style=\"text-align: right;\">\n      <th></th>\n      <th>A</th>\n      <th>B</th>\n      <th>C</th>\n      <th>D</th>\n    </tr>\n  </thead>\n  <tbody>\n    <tr>\n      <th>2020-01-31</th>\n      <td>0.545802</td>\n      <td>0.010205</td>\n      <td>0.176416</td>\n      <td>0.402558</td>\n    </tr>\n    <tr>\n      <th>2020-02-29</th>\n      <td>0.815496</td>\n      <td>0.838292</td>\n      <td>0.706108</td>\n      <td>0.002344</td>\n    </tr>\n    <tr>\n      <th>2020-03-31</th>\n      <td>0.707482</td>\n      <td>0.947923</td>\n      <td>0.264894</td>\n      <td>0.134783</td>\n    </tr>\n    <tr>\n      <th>2020-04-30</th>\n      <td>0.812991</td>\n      <td>0.122319</td>\n      <td>0.032697</td>\n      <td>0.339973</td>\n    </tr>\n    <tr>\n      <th>2020-05-31</th>\n      <td>0.621796</td>\n      <td>0.909555</td>\n      <td>0.484812</td>\n      <td>0.768949</td>\n    </tr>\n    <tr>\n      <th>2020-06-30</th>\n      <td>0.449415</td>\n      <td>0.031591</td>\n      <td>0.622136</td>\n      <td>0.109499</td>\n    </tr>\n  </tbody>\n</table>\n</div>"
     },
     "execution_count": 22,
     "metadata": {},
     "output_type": "execute_result"
    }
   ],
   "source": [
    "df = pd.DataFrame(np.random.rand(6, 4), index=dates, columns=list('ABCD'))\n",
    "df"
   ],
   "metadata": {
    "collapsed": false,
    "pycharm": {
     "name": "#%%\n"
    }
   }
  },
  {
   "cell_type": "markdown",
   "source": [
    "## 列选取"
   ],
   "metadata": {
    "collapsed": false,
    "pycharm": {
     "name": "#%% md\n"
    }
   }
  },
  {
   "cell_type": "markdown",
   "source": [
    "可以通过 df['A'] 选择单列A，得到一个 Series 对象，等同于 df.A："
   ],
   "metadata": {
    "collapsed": false,
    "pycharm": {
     "name": "#%% md\n"
    }
   }
  },
  {
   "cell_type": "code",
   "execution_count": 29,
   "outputs": [
    {
     "data": {
      "text/plain": "2020-01-31    0.545802\n2020-02-29    0.815496\n2020-03-31    0.707482\n2020-04-30    0.812991\n2020-05-31    0.621796\n2020-06-30    0.449415\nFreq: M, Name: A, dtype: float64"
     },
     "execution_count": 29,
     "metadata": {},
     "output_type": "execute_result"
    }
   ],
   "source": [
    "df['A']"
   ],
   "metadata": {
    "collapsed": false,
    "pycharm": {
     "name": "#%%\n"
    }
   }
  },
  {
   "cell_type": "code",
   "execution_count": 32,
   "outputs": [
    {
     "data": {
      "text/plain": "                   A         D\n2020-01-31  0.545802  0.402558\n2020-02-29  0.815496  0.002344\n2020-03-31  0.707482  0.134783\n2020-04-30  0.812991  0.339973\n2020-05-31  0.621796  0.768949\n2020-06-30  0.449415  0.109499",
      "text/html": "<div>\n<style scoped>\n    .dataframe tbody tr th:only-of-type {\n        vertical-align: middle;\n    }\n\n    .dataframe tbody tr th {\n        vertical-align: top;\n    }\n\n    .dataframe thead th {\n        text-align: right;\n    }\n</style>\n<table border=\"1\" class=\"dataframe\">\n  <thead>\n    <tr style=\"text-align: right;\">\n      <th></th>\n      <th>A</th>\n      <th>D</th>\n    </tr>\n  </thead>\n  <tbody>\n    <tr>\n      <th>2020-01-31</th>\n      <td>0.545802</td>\n      <td>0.402558</td>\n    </tr>\n    <tr>\n      <th>2020-02-29</th>\n      <td>0.815496</td>\n      <td>0.002344</td>\n    </tr>\n    <tr>\n      <th>2020-03-31</th>\n      <td>0.707482</td>\n      <td>0.134783</td>\n    </tr>\n    <tr>\n      <th>2020-04-30</th>\n      <td>0.812991</td>\n      <td>0.339973</td>\n    </tr>\n    <tr>\n      <th>2020-05-31</th>\n      <td>0.621796</td>\n      <td>0.768949</td>\n    </tr>\n    <tr>\n      <th>2020-06-30</th>\n      <td>0.449415</td>\n      <td>0.109499</td>\n    </tr>\n  </tbody>\n</table>\n</div>"
     },
     "execution_count": 32,
     "metadata": {},
     "output_type": "execute_result"
    }
   ],
   "source": [
    "df[['A', 'D']]"
   ],
   "metadata": {
    "collapsed": false,
    "pycharm": {
     "name": "#%%\n"
    }
   }
  },
  {
   "cell_type": "code",
   "execution_count": 34,
   "outputs": [
    {
     "data": {
      "text/plain": "                   B         C\n2020-01-31  0.010205  0.176416\n2020-02-29  0.838292  0.706108\n2020-03-31  0.947923  0.264894\n2020-04-30  0.122319  0.032697\n2020-05-31  0.909555  0.484812\n2020-06-30  0.031591  0.622136",
      "text/html": "<div>\n<style scoped>\n    .dataframe tbody tr th:only-of-type {\n        vertical-align: middle;\n    }\n\n    .dataframe tbody tr th {\n        vertical-align: top;\n    }\n\n    .dataframe thead th {\n        text-align: right;\n    }\n</style>\n<table border=\"1\" class=\"dataframe\">\n  <thead>\n    <tr style=\"text-align: right;\">\n      <th></th>\n      <th>B</th>\n      <th>C</th>\n    </tr>\n  </thead>\n  <tbody>\n    <tr>\n      <th>2020-01-31</th>\n      <td>0.010205</td>\n      <td>0.176416</td>\n    </tr>\n    <tr>\n      <th>2020-02-29</th>\n      <td>0.838292</td>\n      <td>0.706108</td>\n    </tr>\n    <tr>\n      <th>2020-03-31</th>\n      <td>0.947923</td>\n      <td>0.264894</td>\n    </tr>\n    <tr>\n      <th>2020-04-30</th>\n      <td>0.122319</td>\n      <td>0.032697</td>\n    </tr>\n    <tr>\n      <th>2020-05-31</th>\n      <td>0.909555</td>\n      <td>0.484812</td>\n    </tr>\n    <tr>\n      <th>2020-06-30</th>\n      <td>0.031591</td>\n      <td>0.622136</td>\n    </tr>\n  </tbody>\n</table>\n</div>"
     },
     "execution_count": 34,
     "metadata": {},
     "output_type": "execute_result"
    }
   ],
   "source": [
    "df[list('BC')]"
   ],
   "metadata": {
    "collapsed": false,
    "pycharm": {
     "name": "#%%\n"
    }
   }
  },
  {
   "cell_type": "markdown",
   "source": [
    "## 行选取"
   ],
   "metadata": {
    "collapsed": false,
    "pycharm": {
     "name": "#%% md\n"
    }
   }
  },
  {
   "cell_type": "markdown",
   "source": [
    "可以使用切片操作："
   ],
   "metadata": {
    "collapsed": false,
    "pycharm": {
     "name": "#%% md\n"
    }
   }
  },
  {
   "cell_type": "code",
   "execution_count": 25,
   "outputs": [
    {
     "data": {
      "text/plain": "                   A         B         C         D\n2020-01-31  0.545802  0.010205  0.176416  0.402558\n2020-02-29  0.815496  0.838292  0.706108  0.002344\n2020-03-31  0.707482  0.947923  0.264894  0.134783",
      "text/html": "<div>\n<style scoped>\n    .dataframe tbody tr th:only-of-type {\n        vertical-align: middle;\n    }\n\n    .dataframe tbody tr th {\n        vertical-align: top;\n    }\n\n    .dataframe thead th {\n        text-align: right;\n    }\n</style>\n<table border=\"1\" class=\"dataframe\">\n  <thead>\n    <tr style=\"text-align: right;\">\n      <th></th>\n      <th>A</th>\n      <th>B</th>\n      <th>C</th>\n      <th>D</th>\n    </tr>\n  </thead>\n  <tbody>\n    <tr>\n      <th>2020-01-31</th>\n      <td>0.545802</td>\n      <td>0.010205</td>\n      <td>0.176416</td>\n      <td>0.402558</td>\n    </tr>\n    <tr>\n      <th>2020-02-29</th>\n      <td>0.815496</td>\n      <td>0.838292</td>\n      <td>0.706108</td>\n      <td>0.002344</td>\n    </tr>\n    <tr>\n      <th>2020-03-31</th>\n      <td>0.707482</td>\n      <td>0.947923</td>\n      <td>0.264894</td>\n      <td>0.134783</td>\n    </tr>\n  </tbody>\n</table>\n</div>"
     },
     "execution_count": 25,
     "metadata": {},
     "output_type": "execute_result"
    }
   ],
   "source": [
    "df[0:3]"
   ],
   "metadata": {
    "collapsed": false,
    "pycharm": {
     "name": "#%%\n"
    }
   }
  },
  {
   "cell_type": "code",
   "execution_count": 26,
   "outputs": [
    {
     "data": {
      "text/plain": "                   A         B         C         D\n2020-02-29  0.815496  0.838292  0.706108  0.002344\n2020-03-31  0.707482  0.947923  0.264894  0.134783\n2020-04-30  0.812991  0.122319  0.032697  0.339973\n2020-05-31  0.621796  0.909555  0.484812  0.768949\n2020-06-30  0.449415  0.031591  0.622136  0.109499",
      "text/html": "<div>\n<style scoped>\n    .dataframe tbody tr th:only-of-type {\n        vertical-align: middle;\n    }\n\n    .dataframe tbody tr th {\n        vertical-align: top;\n    }\n\n    .dataframe thead th {\n        text-align: right;\n    }\n</style>\n<table border=\"1\" class=\"dataframe\">\n  <thead>\n    <tr style=\"text-align: right;\">\n      <th></th>\n      <th>A</th>\n      <th>B</th>\n      <th>C</th>\n      <th>D</th>\n    </tr>\n  </thead>\n  <tbody>\n    <tr>\n      <th>2020-02-29</th>\n      <td>0.815496</td>\n      <td>0.838292</td>\n      <td>0.706108</td>\n      <td>0.002344</td>\n    </tr>\n    <tr>\n      <th>2020-03-31</th>\n      <td>0.707482</td>\n      <td>0.947923</td>\n      <td>0.264894</td>\n      <td>0.134783</td>\n    </tr>\n    <tr>\n      <th>2020-04-30</th>\n      <td>0.812991</td>\n      <td>0.122319</td>\n      <td>0.032697</td>\n      <td>0.339973</td>\n    </tr>\n    <tr>\n      <th>2020-05-31</th>\n      <td>0.621796</td>\n      <td>0.909555</td>\n      <td>0.484812</td>\n      <td>0.768949</td>\n    </tr>\n    <tr>\n      <th>2020-06-30</th>\n      <td>0.449415</td>\n      <td>0.031591</td>\n      <td>0.622136</td>\n      <td>0.109499</td>\n    </tr>\n  </tbody>\n</table>\n</div>"
     },
     "execution_count": 26,
     "metadata": {},
     "output_type": "execute_result"
    }
   ],
   "source": [
    "df['20200201':'20200701']"
   ],
   "metadata": {
    "collapsed": false,
    "pycharm": {
     "name": "#%%\n"
    }
   }
  },
  {
   "cell_type": "markdown",
   "source": [
    "## 按标签获取 df.loc"
   ],
   "metadata": {
    "collapsed": false,
    "pycharm": {
     "name": "#%% md\n"
    }
   }
  },
  {
   "cell_type": "markdown",
   "source": [
    "df.loc 要求接受参数必须为标签值，不能用位置序号："
   ],
   "metadata": {
    "collapsed": false,
    "pycharm": {
     "name": "#%% md\n"
    }
   }
  },
  {
   "cell_type": "code",
   "execution_count": 35,
   "outputs": [
    {
     "data": {
      "text/plain": "A    0.545802\nB    0.010205\nC    0.176416\nD    0.402558\nName: 2020-01-31 00:00:00, dtype: float64"
     },
     "execution_count": 35,
     "metadata": {},
     "output_type": "execute_result"
    }
   ],
   "source": [
    "df.loc[dates[0]]"
   ],
   "metadata": {
    "collapsed": false,
    "pycharm": {
     "name": "#%%\n"
    }
   }
  },
  {
   "cell_type": "code",
   "execution_count": 37,
   "outputs": [
    {
     "data": {
      "text/plain": "                   A         C\n2020-01-31  0.545802  0.176416\n2020-02-29  0.815496  0.706108\n2020-03-31  0.707482  0.264894\n2020-04-30  0.812991  0.032697\n2020-05-31  0.621796  0.484812\n2020-06-30  0.449415  0.622136",
      "text/html": "<div>\n<style scoped>\n    .dataframe tbody tr th:only-of-type {\n        vertical-align: middle;\n    }\n\n    .dataframe tbody tr th {\n        vertical-align: top;\n    }\n\n    .dataframe thead th {\n        text-align: right;\n    }\n</style>\n<table border=\"1\" class=\"dataframe\">\n  <thead>\n    <tr style=\"text-align: right;\">\n      <th></th>\n      <th>A</th>\n      <th>C</th>\n    </tr>\n  </thead>\n  <tbody>\n    <tr>\n      <th>2020-01-31</th>\n      <td>0.545802</td>\n      <td>0.176416</td>\n    </tr>\n    <tr>\n      <th>2020-02-29</th>\n      <td>0.815496</td>\n      <td>0.706108</td>\n    </tr>\n    <tr>\n      <th>2020-03-31</th>\n      <td>0.707482</td>\n      <td>0.264894</td>\n    </tr>\n    <tr>\n      <th>2020-04-30</th>\n      <td>0.812991</td>\n      <td>0.032697</td>\n    </tr>\n    <tr>\n      <th>2020-05-31</th>\n      <td>0.621796</td>\n      <td>0.484812</td>\n    </tr>\n    <tr>\n      <th>2020-06-30</th>\n      <td>0.449415</td>\n      <td>0.622136</td>\n    </tr>\n  </tbody>\n</table>\n</div>"
     },
     "execution_count": 37,
     "metadata": {},
     "output_type": "execute_result"
    }
   ],
   "source": [
    "df.loc[:, ['A', 'C']]"
   ],
   "metadata": {
    "collapsed": false,
    "pycharm": {
     "name": "#%%\n"
    }
   }
  },
  {
   "cell_type": "code",
   "execution_count": 41,
   "outputs": [
    {
     "data": {
      "text/plain": "                   B         C\n2020-02-29  0.838292  0.706108\n2020-03-31  0.947923  0.264894\n2020-04-30  0.122319  0.032697",
      "text/html": "<div>\n<style scoped>\n    .dataframe tbody tr th:only-of-type {\n        vertical-align: middle;\n    }\n\n    .dataframe tbody tr th {\n        vertical-align: top;\n    }\n\n    .dataframe thead th {\n        text-align: right;\n    }\n</style>\n<table border=\"1\" class=\"dataframe\">\n  <thead>\n    <tr style=\"text-align: right;\">\n      <th></th>\n      <th>B</th>\n      <th>C</th>\n    </tr>\n  </thead>\n  <tbody>\n    <tr>\n      <th>2020-02-29</th>\n      <td>0.838292</td>\n      <td>0.706108</td>\n    </tr>\n    <tr>\n      <th>2020-03-31</th>\n      <td>0.947923</td>\n      <td>0.264894</td>\n    </tr>\n    <tr>\n      <th>2020-04-30</th>\n      <td>0.122319</td>\n      <td>0.032697</td>\n    </tr>\n  </tbody>\n</table>\n</div>"
     },
     "execution_count": 41,
     "metadata": {},
     "output_type": "execute_result"
    }
   ],
   "source": [
    "df.loc['20200201': '20200501', ['B', 'C']]"
   ],
   "metadata": {
    "collapsed": false,
    "pycharm": {
     "name": "#%%\n"
    }
   }
  },
  {
   "cell_type": "code",
   "execution_count": 42,
   "outputs": [
    {
     "data": {
      "text/plain": "0.7061081726568768"
     },
     "execution_count": 42,
     "metadata": {},
     "output_type": "execute_result"
    }
   ],
   "source": [
    "df.loc['20200229', 'C']"
   ],
   "metadata": {
    "collapsed": false,
    "pycharm": {
     "name": "#%%\n"
    }
   }
  },
  {
   "cell_type": "markdown",
   "source": [
    "等同于："
   ],
   "metadata": {
    "collapsed": false,
    "pycharm": {
     "name": "#%% md\n"
    }
   }
  },
  {
   "cell_type": "code",
   "execution_count": 44,
   "outputs": [
    {
     "data": {
      "text/plain": "0.7061081726568768"
     },
     "execution_count": 44,
     "metadata": {},
     "output_type": "execute_result"
    }
   ],
   "source": [
    "df.at['20200229', 'C']"
   ],
   "metadata": {
    "collapsed": false,
    "pycharm": {
     "name": "#%%\n"
    }
   }
  },
  {
   "cell_type": "markdown",
   "source": [
    "## 按位置获取 df.iloc"
   ],
   "metadata": {
    "collapsed": false,
    "pycharm": {
     "name": "#%% md\n"
    }
   }
  },
  {
   "cell_type": "markdown",
   "source": [
    "df.iloc 可以接受位置作为参数："
   ],
   "metadata": {
    "collapsed": false,
    "pycharm": {
     "name": "#%% md\n"
    }
   }
  },
  {
   "cell_type": "code",
   "execution_count": 48,
   "outputs": [
    {
     "data": {
      "text/plain": "A    0.812991\nB    0.122319\nC    0.032697\nD    0.339973\nName: 2020-04-30 00:00:00, dtype: float64"
     },
     "execution_count": 48,
     "metadata": {},
     "output_type": "execute_result"
    }
   ],
   "source": [
    "df.iloc[3]"
   ],
   "metadata": {
    "collapsed": false,
    "pycharm": {
     "name": "#%%\n"
    }
   }
  },
  {
   "cell_type": "code",
   "execution_count": 50,
   "outputs": [
    {
     "data": {
      "text/plain": "                   C         D\n2020-01-31  0.176416  0.402558\n2020-02-29  0.706108  0.002344\n2020-03-31  0.264894  0.134783\n2020-04-30  0.032697  0.339973\n2020-05-31  0.484812  0.768949\n2020-06-30  0.622136  0.109499",
      "text/html": "<div>\n<style scoped>\n    .dataframe tbody tr th:only-of-type {\n        vertical-align: middle;\n    }\n\n    .dataframe tbody tr th {\n        vertical-align: top;\n    }\n\n    .dataframe thead th {\n        text-align: right;\n    }\n</style>\n<table border=\"1\" class=\"dataframe\">\n  <thead>\n    <tr style=\"text-align: right;\">\n      <th></th>\n      <th>C</th>\n      <th>D</th>\n    </tr>\n  </thead>\n  <tbody>\n    <tr>\n      <th>2020-01-31</th>\n      <td>0.176416</td>\n      <td>0.402558</td>\n    </tr>\n    <tr>\n      <th>2020-02-29</th>\n      <td>0.706108</td>\n      <td>0.002344</td>\n    </tr>\n    <tr>\n      <th>2020-03-31</th>\n      <td>0.264894</td>\n      <td>0.134783</td>\n    </tr>\n    <tr>\n      <th>2020-04-30</th>\n      <td>0.032697</td>\n      <td>0.339973</td>\n    </tr>\n    <tr>\n      <th>2020-05-31</th>\n      <td>0.484812</td>\n      <td>0.768949</td>\n    </tr>\n    <tr>\n      <th>2020-06-30</th>\n      <td>0.622136</td>\n      <td>0.109499</td>\n    </tr>\n  </tbody>\n</table>\n</div>"
     },
     "execution_count": 50,
     "metadata": {},
     "output_type": "execute_result"
    }
   ],
   "source": [
    "df.iloc[:, range(2, 4)]"
   ],
   "metadata": {
    "collapsed": false,
    "pycharm": {
     "name": "#%%\n"
    }
   }
  },
  {
   "cell_type": "code",
   "execution_count": 54,
   "outputs": [
    {
     "data": {
      "text/plain": "0.3399728599783527"
     },
     "execution_count": 54,
     "metadata": {},
     "output_type": "execute_result"
    }
   ],
   "source": [
    "df.iloc[3, 3]"
   ],
   "metadata": {
    "collapsed": false,
    "pycharm": {
     "name": "#%%\n"
    }
   }
  },
  {
   "cell_type": "markdown",
   "source": [
    "等同于："
   ],
   "metadata": {
    "collapsed": false,
    "pycharm": {
     "name": "#%% md\n"
    }
   }
  },
  {
   "cell_type": "code",
   "execution_count": 55,
   "outputs": [
    {
     "data": {
      "text/plain": "0.3399728599783527"
     },
     "execution_count": 55,
     "metadata": {},
     "output_type": "execute_result"
    }
   ],
   "source": [
    "df.loc[dates[3], 'D']"
   ],
   "metadata": {
    "collapsed": false,
    "pycharm": {
     "name": "#%%\n"
    }
   }
  },
  {
   "cell_type": "code",
   "execution_count": 56,
   "outputs": [
    {
     "data": {
      "text/plain": "0.3399728599783527"
     },
     "execution_count": 56,
     "metadata": {},
     "output_type": "execute_result"
    }
   ],
   "source": [
    "df.iat[3, 3]"
   ],
   "metadata": {
    "collapsed": false,
    "pycharm": {
     "name": "#%%\n"
    }
   }
  }
 ],
 "metadata": {
  "kernelspec": {
   "display_name": "Python 3",
   "language": "python",
   "name": "python3"
  },
  "language_info": {
   "codemirror_mode": {
    "name": "ipython",
    "version": 2
   },
   "file_extension": ".py",
   "mimetype": "text/x-python",
   "name": "python",
   "nbconvert_exporter": "python",
   "pygments_lexer": "ipython2",
   "version": "2.7.6"
  }
 },
 "nbformat": 4,
 "nbformat_minor": 0
}