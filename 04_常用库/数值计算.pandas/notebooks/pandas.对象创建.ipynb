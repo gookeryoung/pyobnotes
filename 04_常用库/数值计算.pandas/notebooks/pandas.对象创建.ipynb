{
 "cells": [
  {
   "cell_type": "markdown",
   "source": [
    "# pandas对象创建\n",
    "按照惯例，先引入所需包，包括 numpy 以及 pandas："
   ],
   "metadata": {
    "collapsed": false,
    "pycharm": {
     "name": "#%% md\n"
    }
   }
  },
  {
   "cell_type": "code",
   "execution_count": 72,
   "metadata": {
    "pycharm": {
     "name": "#%%\n"
    }
   },
   "outputs": [],
   "source": [
    "import numpy as np\n",
    "import pandas as pd"
   ]
  },
  {
   "cell_type": "markdown",
   "metadata": {
    "pycharm": {
     "name": "#%% md\n"
    }
   },
   "source": [
    "用值生成pandas.Series时，默认自动生成整数索引:"
   ]
  },
  {
   "cell_type": "code",
   "execution_count": 73,
   "metadata": {
    "pycharm": {
     "name": "#%%\n"
    }
   },
   "outputs": [
    {
     "data": {
      "text/plain": "0    1.0\n1    3.0\n2    5.0\n3    NaN\n4    7.0\n5    8.0\ndtype: float64"
     },
     "execution_count": 73,
     "metadata": {},
     "output_type": "execute_result"
    }
   ],
   "source": [
    "s= pd.Series([1, 3, 5, np.nan, 7, 8])\n",
    "s"
   ]
  },
  {
   "cell_type": "markdown",
   "source": [
    "使用 numpy 数组创建 DataFrame，使用 datetime 作为 index："
   ],
   "metadata": {
    "collapsed": false,
    "pycharm": {
     "name": "#%% md\n"
    }
   }
  },
  {
   "cell_type": "code",
   "execution_count": 74,
   "metadata": {
    "pycharm": {
     "name": "#%%\n"
    }
   },
   "outputs": [
    {
     "data": {
      "text/plain": "DatetimeIndex(['2013-12-31', '2014-12-31', '2015-12-31', '2016-12-31',\n               '2017-12-31', '2018-12-31'],\n              dtype='datetime64[ns]', freq='A-DEC')"
     },
     "execution_count": 74,
     "metadata": {},
     "output_type": "execute_result"
    }
   ],
   "source": [
    "dates = pd.date_range(start='20130101', periods=6, freq='Y')\n",
    "dates"
   ]
  },
  {
   "cell_type": "code",
   "execution_count": 75,
   "outputs": [
    {
     "data": {
      "text/plain": "                   A         B         C         D\n2013-12-31  0.168004  0.635238  0.739111  0.142876\n2014-12-31  0.672256  0.890836  0.876457  0.183195\n2015-12-31  0.839444  0.782295  0.394522  0.660837\n2016-12-31  0.894755  0.931337  0.045848  0.390392\n2017-12-31  0.481803  0.677151  0.645688  0.388801\n2018-12-31  0.564461  0.866819  0.158407  0.824227",
      "text/html": "<div>\n<style scoped>\n    .dataframe tbody tr th:only-of-type {\n        vertical-align: middle;\n    }\n\n    .dataframe tbody tr th {\n        vertical-align: top;\n    }\n\n    .dataframe thead th {\n        text-align: right;\n    }\n</style>\n<table border=\"1\" class=\"dataframe\">\n  <thead>\n    <tr style=\"text-align: right;\">\n      <th></th>\n      <th>A</th>\n      <th>B</th>\n      <th>C</th>\n      <th>D</th>\n    </tr>\n  </thead>\n  <tbody>\n    <tr>\n      <th>2013-12-31</th>\n      <td>0.168004</td>\n      <td>0.635238</td>\n      <td>0.739111</td>\n      <td>0.142876</td>\n    </tr>\n    <tr>\n      <th>2014-12-31</th>\n      <td>0.672256</td>\n      <td>0.890836</td>\n      <td>0.876457</td>\n      <td>0.183195</td>\n    </tr>\n    <tr>\n      <th>2015-12-31</th>\n      <td>0.839444</td>\n      <td>0.782295</td>\n      <td>0.394522</td>\n      <td>0.660837</td>\n    </tr>\n    <tr>\n      <th>2016-12-31</th>\n      <td>0.894755</td>\n      <td>0.931337</td>\n      <td>0.045848</td>\n      <td>0.390392</td>\n    </tr>\n    <tr>\n      <th>2017-12-31</th>\n      <td>0.481803</td>\n      <td>0.677151</td>\n      <td>0.645688</td>\n      <td>0.388801</td>\n    </tr>\n    <tr>\n      <th>2018-12-31</th>\n      <td>0.564461</td>\n      <td>0.866819</td>\n      <td>0.158407</td>\n      <td>0.824227</td>\n    </tr>\n  </tbody>\n</table>\n</div>"
     },
     "execution_count": 75,
     "metadata": {},
     "output_type": "execute_result"
    }
   ],
   "source": [
    "df = pd.DataFrame(np.random.rand(6, 4), index=dates, columns=list('ABCD'))\n",
    "df"
   ],
   "metadata": {
    "collapsed": false,
    "pycharm": {
     "name": "#%%\n"
    }
   }
  },
  {
   "cell_type": "markdown",
   "source": [
    "可以通过字典结构数据创建类似 Series 结构的 DataFrame："
   ],
   "metadata": {
    "collapsed": false,
    "pycharm": {
     "name": "#%% md\n"
    }
   }
  },
  {
   "cell_type": "code",
   "execution_count": 76,
   "outputs": [
    {
     "data": {
      "text/plain": "     A          B    C  D      E    F\n0  1.0 2013-01-01  1.0  3   test  foo\n1  1.0 2013-01-01  1.0  3  train  foo\n2  1.0 2013-01-01  1.0  3   test  foo\n3  1.0 2013-01-01  1.0  3  train  foo",
      "text/html": "<div>\n<style scoped>\n    .dataframe tbody tr th:only-of-type {\n        vertical-align: middle;\n    }\n\n    .dataframe tbody tr th {\n        vertical-align: top;\n    }\n\n    .dataframe thead th {\n        text-align: right;\n    }\n</style>\n<table border=\"1\" class=\"dataframe\">\n  <thead>\n    <tr style=\"text-align: right;\">\n      <th></th>\n      <th>A</th>\n      <th>B</th>\n      <th>C</th>\n      <th>D</th>\n      <th>E</th>\n      <th>F</th>\n    </tr>\n  </thead>\n  <tbody>\n    <tr>\n      <th>0</th>\n      <td>1.0</td>\n      <td>2013-01-01</td>\n      <td>1.0</td>\n      <td>3</td>\n      <td>test</td>\n      <td>foo</td>\n    </tr>\n    <tr>\n      <th>1</th>\n      <td>1.0</td>\n      <td>2013-01-01</td>\n      <td>1.0</td>\n      <td>3</td>\n      <td>train</td>\n      <td>foo</td>\n    </tr>\n    <tr>\n      <th>2</th>\n      <td>1.0</td>\n      <td>2013-01-01</td>\n      <td>1.0</td>\n      <td>3</td>\n      <td>test</td>\n      <td>foo</td>\n    </tr>\n    <tr>\n      <th>3</th>\n      <td>1.0</td>\n      <td>2013-01-01</td>\n      <td>1.0</td>\n      <td>3</td>\n      <td>train</td>\n      <td>foo</td>\n    </tr>\n  </tbody>\n</table>\n</div>"
     },
     "execution_count": 76,
     "metadata": {},
     "output_type": "execute_result"
    }
   ],
   "source": [
    "df2 = pd.DataFrame(\n",
    "    {\n",
    "        'A': 1.0,\n",
    "        'B': pd.Timestamp('20130101'),\n",
    "        'C': pd.Series(1, index=list(range(4)), dtype=np.float32),\n",
    "        'D': np.array([3] * 4, dtype=np.int32),\n",
    "        'E': pd.Categorical(['test', 'train', 'test', 'train']),\n",
    "        'F': 'foo',\n",
    "    }\n",
    ")\n",
    "df2"
   ],
   "metadata": {
    "collapsed": false,
    "pycharm": {
     "name": "#%%\n"
    }
   }
  },
  {
   "cell_type": "code",
   "execution_count": 77,
   "outputs": [
    {
     "data": {
      "text/plain": "A           float64\nB    datetime64[ns]\nC           float32\nD             int32\nE          category\nF            object\ndtype: object"
     },
     "execution_count": 77,
     "metadata": {},
     "output_type": "execute_result"
    }
   ],
   "source": [
    "df2.dtypes"
   ],
   "metadata": {
    "collapsed": false,
    "pycharm": {
     "name": "#%%\n"
    }
   }
  },
  {
   "cell_type": "code",
   "execution_count": 78,
   "outputs": [
    {
     "data": {
      "text/plain": "0    1.0\n1    1.0\n2    1.0\n3    1.0\nName: C, dtype: float32"
     },
     "execution_count": 78,
     "metadata": {},
     "output_type": "execute_result"
    }
   ],
   "source": [
    "df2.C"
   ],
   "metadata": {
    "collapsed": false,
    "pycharm": {
     "name": "#%%\n"
    }
   }
  }
 ],
 "metadata": {
  "kernelspec": {
   "display_name": "Python 3 (ipykernel)",
   "language": "python",
   "name": "python3"
  },
  "language_info": {
   "codemirror_mode": {
    "name": "ipython",
    "version": 3
   },
   "file_extension": ".py",
   "mimetype": "text/x-python",
   "name": "python",
   "nbconvert_exporter": "python",
   "pygments_lexer": "ipython3",
   "version": "3.8.13"
  },
  "vscode": {
   "interpreter": {
    "hash": "a03802db8345bafdb8515bab8e4238549c1eb5bb70a3d33897c04faf30b99616"
   }
  }
 },
 "nbformat": 4,
 "nbformat_minor": 4
}