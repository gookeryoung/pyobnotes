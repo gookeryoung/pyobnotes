{
 "cells": [
  {
   "cell_type": "markdown",
   "source": [
    "# 浏览数据"
   ],
   "metadata": {
    "collapsed": false,
    "pycharm": {
     "name": "#%% md\n"
    }
   }
  },
  {
   "cell_type": "markdown",
   "source": [
    "首先生成 6x4大小的 DataFrame 供使用："
   ],
   "metadata": {
    "collapsed": false,
    "pycharm": {
     "name": "#%% md\n"
    }
   }
  },
  {
   "cell_type": "code",
   "execution_count": 41,
   "metadata": {
    "collapsed": true,
    "pycharm": {
     "name": "#%%\n"
    }
   },
   "outputs": [
    {
     "data": {
      "text/plain": "DatetimeIndex(['2013-01-01', '2013-01-02', '2013-01-03', '2013-01-04',\n               '2013-01-05', '2013-01-06'],\n              dtype='datetime64[ns]', freq='D')"
     },
     "execution_count": 41,
     "metadata": {},
     "output_type": "execute_result"
    }
   ],
   "source": [
    "import pandas as pd\n",
    "import numpy as np\n",
    "\n",
    "dates = pd.date_range('20130101', periods=6, freq='D')\n",
    "dates"
   ]
  },
  {
   "cell_type": "code",
   "execution_count": 42,
   "outputs": [
    {
     "data": {
      "text/plain": "                   A         B         C         D\n2013-01-01  0.059858  0.988169  0.671358  0.757114\n2013-01-02  0.235234  0.393781  0.616279  0.572503\n2013-01-03  0.733239  0.147542  0.418538  0.021300\n2013-01-04  0.272862  0.988362  0.889549  0.001054\n2013-01-05  0.742841  0.853958  0.758803  0.896411\n2013-01-06  0.095740  0.021197  0.790819  0.866529",
      "text/html": "<div>\n<style scoped>\n    .dataframe tbody tr th:only-of-type {\n        vertical-align: middle;\n    }\n\n    .dataframe tbody tr th {\n        vertical-align: top;\n    }\n\n    .dataframe thead th {\n        text-align: right;\n    }\n</style>\n<table border=\"1\" class=\"dataframe\">\n  <thead>\n    <tr style=\"text-align: right;\">\n      <th></th>\n      <th>A</th>\n      <th>B</th>\n      <th>C</th>\n      <th>D</th>\n    </tr>\n  </thead>\n  <tbody>\n    <tr>\n      <th>2013-01-01</th>\n      <td>0.059858</td>\n      <td>0.988169</td>\n      <td>0.671358</td>\n      <td>0.757114</td>\n    </tr>\n    <tr>\n      <th>2013-01-02</th>\n      <td>0.235234</td>\n      <td>0.393781</td>\n      <td>0.616279</td>\n      <td>0.572503</td>\n    </tr>\n    <tr>\n      <th>2013-01-03</th>\n      <td>0.733239</td>\n      <td>0.147542</td>\n      <td>0.418538</td>\n      <td>0.021300</td>\n    </tr>\n    <tr>\n      <th>2013-01-04</th>\n      <td>0.272862</td>\n      <td>0.988362</td>\n      <td>0.889549</td>\n      <td>0.001054</td>\n    </tr>\n    <tr>\n      <th>2013-01-05</th>\n      <td>0.742841</td>\n      <td>0.853958</td>\n      <td>0.758803</td>\n      <td>0.896411</td>\n    </tr>\n    <tr>\n      <th>2013-01-06</th>\n      <td>0.095740</td>\n      <td>0.021197</td>\n      <td>0.790819</td>\n      <td>0.866529</td>\n    </tr>\n  </tbody>\n</table>\n</div>"
     },
     "execution_count": 42,
     "metadata": {},
     "output_type": "execute_result"
    }
   ],
   "source": [
    "df = pd.DataFrame(np.random.rand(6, 4), index=dates, columns=list('ABCD'))\n",
    "df"
   ],
   "metadata": {
    "collapsed": false,
    "pycharm": {
     "name": "#%%\n"
    }
   }
  },
  {
   "cell_type": "markdown",
   "source": [
    "可以通过 head 和 tail 浏览上、下部分的数据："
   ],
   "metadata": {
    "collapsed": false,
    "pycharm": {
     "name": "#%% md\n"
    }
   }
  },
  {
   "cell_type": "code",
   "execution_count": 43,
   "outputs": [
    {
     "data": {
      "text/plain": "                   A         B         C         D\n2013-01-01  0.059858  0.988169  0.671358  0.757114\n2013-01-02  0.235234  0.393781  0.616279  0.572503\n2013-01-03  0.733239  0.147542  0.418538  0.021300\n2013-01-04  0.272862  0.988362  0.889549  0.001054\n2013-01-05  0.742841  0.853958  0.758803  0.896411",
      "text/html": "<div>\n<style scoped>\n    .dataframe tbody tr th:only-of-type {\n        vertical-align: middle;\n    }\n\n    .dataframe tbody tr th {\n        vertical-align: top;\n    }\n\n    .dataframe thead th {\n        text-align: right;\n    }\n</style>\n<table border=\"1\" class=\"dataframe\">\n  <thead>\n    <tr style=\"text-align: right;\">\n      <th></th>\n      <th>A</th>\n      <th>B</th>\n      <th>C</th>\n      <th>D</th>\n    </tr>\n  </thead>\n  <tbody>\n    <tr>\n      <th>2013-01-01</th>\n      <td>0.059858</td>\n      <td>0.988169</td>\n      <td>0.671358</td>\n      <td>0.757114</td>\n    </tr>\n    <tr>\n      <th>2013-01-02</th>\n      <td>0.235234</td>\n      <td>0.393781</td>\n      <td>0.616279</td>\n      <td>0.572503</td>\n    </tr>\n    <tr>\n      <th>2013-01-03</th>\n      <td>0.733239</td>\n      <td>0.147542</td>\n      <td>0.418538</td>\n      <td>0.021300</td>\n    </tr>\n    <tr>\n      <th>2013-01-04</th>\n      <td>0.272862</td>\n      <td>0.988362</td>\n      <td>0.889549</td>\n      <td>0.001054</td>\n    </tr>\n    <tr>\n      <th>2013-01-05</th>\n      <td>0.742841</td>\n      <td>0.853958</td>\n      <td>0.758803</td>\n      <td>0.896411</td>\n    </tr>\n  </tbody>\n</table>\n</div>"
     },
     "execution_count": 43,
     "metadata": {},
     "output_type": "execute_result"
    }
   ],
   "source": [
    "df.head()"
   ],
   "metadata": {
    "collapsed": false,
    "pycharm": {
     "name": "#%%\n"
    }
   }
  },
  {
   "cell_type": "code",
   "execution_count": 44,
   "outputs": [
    {
     "data": {
      "text/plain": "                   A         B         C         D\n2013-01-04  0.272862  0.988362  0.889549  0.001054\n2013-01-05  0.742841  0.853958  0.758803  0.896411\n2013-01-06  0.095740  0.021197  0.790819  0.866529",
      "text/html": "<div>\n<style scoped>\n    .dataframe tbody tr th:only-of-type {\n        vertical-align: middle;\n    }\n\n    .dataframe tbody tr th {\n        vertical-align: top;\n    }\n\n    .dataframe thead th {\n        text-align: right;\n    }\n</style>\n<table border=\"1\" class=\"dataframe\">\n  <thead>\n    <tr style=\"text-align: right;\">\n      <th></th>\n      <th>A</th>\n      <th>B</th>\n      <th>C</th>\n      <th>D</th>\n    </tr>\n  </thead>\n  <tbody>\n    <tr>\n      <th>2013-01-04</th>\n      <td>0.272862</td>\n      <td>0.988362</td>\n      <td>0.889549</td>\n      <td>0.001054</td>\n    </tr>\n    <tr>\n      <th>2013-01-05</th>\n      <td>0.742841</td>\n      <td>0.853958</td>\n      <td>0.758803</td>\n      <td>0.896411</td>\n    </tr>\n    <tr>\n      <th>2013-01-06</th>\n      <td>0.095740</td>\n      <td>0.021197</td>\n      <td>0.790819</td>\n      <td>0.866529</td>\n    </tr>\n  </tbody>\n</table>\n</div>"
     },
     "execution_count": 44,
     "metadata": {},
     "output_type": "execute_result"
    }
   ],
   "source": [
    "df.tail(3)"
   ],
   "metadata": {
    "collapsed": false,
    "pycharm": {
     "name": "#%%\n"
    }
   }
  },
  {
   "cell_type": "markdown",
   "source": [
    "显示 index 和 columns："
   ],
   "metadata": {
    "collapsed": false,
    "pycharm": {
     "name": "#%% md\n"
    }
   }
  },
  {
   "cell_type": "code",
   "execution_count": 45,
   "outputs": [
    {
     "data": {
      "text/plain": "DatetimeIndex(['2013-01-01', '2013-01-02', '2013-01-03', '2013-01-04',\n               '2013-01-05', '2013-01-06'],\n              dtype='datetime64[ns]', freq='D')"
     },
     "execution_count": 45,
     "metadata": {},
     "output_type": "execute_result"
    }
   ],
   "source": [
    "df.index"
   ],
   "metadata": {
    "collapsed": false,
    "pycharm": {
     "name": "#%%\n"
    }
   }
  },
  {
   "cell_type": "code",
   "execution_count": 46,
   "outputs": [
    {
     "data": {
      "text/plain": "Index(['A', 'B', 'C', 'D'], dtype='object')"
     },
     "execution_count": 46,
     "metadata": {},
     "output_type": "execute_result"
    }
   ],
   "source": [
    "df.columns"
   ],
   "metadata": {
    "collapsed": false,
    "pycharm": {
     "name": "#%%\n"
    }
   }
  },
  {
   "cell_type": "markdown",
   "source": [
    "可以使用 to_numpy 生成 numpy 数组，但是代价通常很大。因为 numpy 数组只有一种数据类型，而 pandas 数组则每一列均有一种数据类型。采用 to_numpy 生成时首先要找到能兼容所有类型的类型（通常为 object ），导致转换非常慢。"
   ],
   "metadata": {
    "collapsed": false,
    "pycharm": {
     "name": "#%% md\n"
    }
   }
  },
  {
   "cell_type": "code",
   "execution_count": 47,
   "outputs": [
    {
     "data": {
      "text/plain": "array([[0.05985765, 0.98816874, 0.67135756, 0.75711403],\n       [0.23523382, 0.39378121, 0.61627853, 0.57250335],\n       [0.73323856, 0.1475421 , 0.41853843, 0.02130019],\n       [0.27286184, 0.98836238, 0.88954877, 0.00105375],\n       [0.74284053, 0.85395797, 0.75880332, 0.89641117],\n       [0.09574047, 0.02119682, 0.79081875, 0.86652943]])"
     },
     "execution_count": 47,
     "metadata": {},
     "output_type": "execute_result"
    }
   ],
   "source": [
    "df.to_numpy()"
   ],
   "metadata": {
    "collapsed": false,
    "pycharm": {
     "name": "#%%\n"
    }
   }
  },
  {
   "cell_type": "markdown",
   "source": [
    "describe() 用于显示数据的各类统计值："
   ],
   "metadata": {
    "collapsed": false,
    "pycharm": {
     "name": "#%% md\n"
    }
   }
  },
  {
   "cell_type": "code",
   "execution_count": 48,
   "outputs": [
    {
     "data": {
      "text/plain": "              A         B         C         D\ncount  6.000000  6.000000  6.000000  6.000000\nmean   0.356629  0.565502  0.690891  0.519152\nstd    0.306230  0.433846  0.163821  0.409573\nmin    0.059858  0.021197  0.418538  0.001054\n25%    0.130614  0.209102  0.630048  0.159101\n50%    0.254048  0.623870  0.715080  0.664809\n75%    0.618144  0.954616  0.782815  0.839176\nmax    0.742841  0.988362  0.889549  0.896411",
      "text/html": "<div>\n<style scoped>\n    .dataframe tbody tr th:only-of-type {\n        vertical-align: middle;\n    }\n\n    .dataframe tbody tr th {\n        vertical-align: top;\n    }\n\n    .dataframe thead th {\n        text-align: right;\n    }\n</style>\n<table border=\"1\" class=\"dataframe\">\n  <thead>\n    <tr style=\"text-align: right;\">\n      <th></th>\n      <th>A</th>\n      <th>B</th>\n      <th>C</th>\n      <th>D</th>\n    </tr>\n  </thead>\n  <tbody>\n    <tr>\n      <th>count</th>\n      <td>6.000000</td>\n      <td>6.000000</td>\n      <td>6.000000</td>\n      <td>6.000000</td>\n    </tr>\n    <tr>\n      <th>mean</th>\n      <td>0.356629</td>\n      <td>0.565502</td>\n      <td>0.690891</td>\n      <td>0.519152</td>\n    </tr>\n    <tr>\n      <th>std</th>\n      <td>0.306230</td>\n      <td>0.433846</td>\n      <td>0.163821</td>\n      <td>0.409573</td>\n    </tr>\n    <tr>\n      <th>min</th>\n      <td>0.059858</td>\n      <td>0.021197</td>\n      <td>0.418538</td>\n      <td>0.001054</td>\n    </tr>\n    <tr>\n      <th>25%</th>\n      <td>0.130614</td>\n      <td>0.209102</td>\n      <td>0.630048</td>\n      <td>0.159101</td>\n    </tr>\n    <tr>\n      <th>50%</th>\n      <td>0.254048</td>\n      <td>0.623870</td>\n      <td>0.715080</td>\n      <td>0.664809</td>\n    </tr>\n    <tr>\n      <th>75%</th>\n      <td>0.618144</td>\n      <td>0.954616</td>\n      <td>0.782815</td>\n      <td>0.839176</td>\n    </tr>\n    <tr>\n      <th>max</th>\n      <td>0.742841</td>\n      <td>0.988362</td>\n      <td>0.889549</td>\n      <td>0.896411</td>\n    </tr>\n  </tbody>\n</table>\n</div>"
     },
     "execution_count": 48,
     "metadata": {},
     "output_type": "execute_result"
    }
   ],
   "source": [
    "df.describe()"
   ],
   "metadata": {
    "collapsed": false,
    "pycharm": {
     "name": "#%%\n"
    }
   }
  },
  {
   "cell_type": "markdown",
   "source": [
    "使用 df.T 进行转置："
   ],
   "metadata": {
    "collapsed": false,
    "pycharm": {
     "name": "#%% md\n"
    }
   }
  },
  {
   "cell_type": "code",
   "execution_count": 49,
   "outputs": [
    {
     "data": {
      "text/plain": "   2013-01-01  2013-01-02  2013-01-03  2013-01-04  2013-01-05  2013-01-06\nA    0.059858    0.235234    0.733239    0.272862    0.742841    0.095740\nB    0.988169    0.393781    0.147542    0.988362    0.853958    0.021197\nC    0.671358    0.616279    0.418538    0.889549    0.758803    0.790819\nD    0.757114    0.572503    0.021300    0.001054    0.896411    0.866529",
      "text/html": "<div>\n<style scoped>\n    .dataframe tbody tr th:only-of-type {\n        vertical-align: middle;\n    }\n\n    .dataframe tbody tr th {\n        vertical-align: top;\n    }\n\n    .dataframe thead th {\n        text-align: right;\n    }\n</style>\n<table border=\"1\" class=\"dataframe\">\n  <thead>\n    <tr style=\"text-align: right;\">\n      <th></th>\n      <th>2013-01-01</th>\n      <th>2013-01-02</th>\n      <th>2013-01-03</th>\n      <th>2013-01-04</th>\n      <th>2013-01-05</th>\n      <th>2013-01-06</th>\n    </tr>\n  </thead>\n  <tbody>\n    <tr>\n      <th>A</th>\n      <td>0.059858</td>\n      <td>0.235234</td>\n      <td>0.733239</td>\n      <td>0.272862</td>\n      <td>0.742841</td>\n      <td>0.095740</td>\n    </tr>\n    <tr>\n      <th>B</th>\n      <td>0.988169</td>\n      <td>0.393781</td>\n      <td>0.147542</td>\n      <td>0.988362</td>\n      <td>0.853958</td>\n      <td>0.021197</td>\n    </tr>\n    <tr>\n      <th>C</th>\n      <td>0.671358</td>\n      <td>0.616279</td>\n      <td>0.418538</td>\n      <td>0.889549</td>\n      <td>0.758803</td>\n      <td>0.790819</td>\n    </tr>\n    <tr>\n      <th>D</th>\n      <td>0.757114</td>\n      <td>0.572503</td>\n      <td>0.021300</td>\n      <td>0.001054</td>\n      <td>0.896411</td>\n      <td>0.866529</td>\n    </tr>\n  </tbody>\n</table>\n</div>"
     },
     "execution_count": 49,
     "metadata": {},
     "output_type": "execute_result"
    }
   ],
   "source": [
    "df.T"
   ],
   "metadata": {
    "collapsed": false,
    "pycharm": {
     "name": "#%%\n"
    }
   }
  },
  {
   "cell_type": "markdown",
   "source": [
    "按轴进行排序，axis=0为按行，axis=1为按列："
   ],
   "metadata": {
    "collapsed": false,
    "pycharm": {
     "name": "#%% md\n"
    }
   }
  },
  {
   "cell_type": "code",
   "execution_count": 50,
   "outputs": [
    {
     "data": {
      "text/plain": "                   D         C         B         A\n2013-01-01  0.757114  0.671358  0.988169  0.059858\n2013-01-02  0.572503  0.616279  0.393781  0.235234\n2013-01-03  0.021300  0.418538  0.147542  0.733239\n2013-01-04  0.001054  0.889549  0.988362  0.272862\n2013-01-05  0.896411  0.758803  0.853958  0.742841\n2013-01-06  0.866529  0.790819  0.021197  0.095740",
      "text/html": "<div>\n<style scoped>\n    .dataframe tbody tr th:only-of-type {\n        vertical-align: middle;\n    }\n\n    .dataframe tbody tr th {\n        vertical-align: top;\n    }\n\n    .dataframe thead th {\n        text-align: right;\n    }\n</style>\n<table border=\"1\" class=\"dataframe\">\n  <thead>\n    <tr style=\"text-align: right;\">\n      <th></th>\n      <th>D</th>\n      <th>C</th>\n      <th>B</th>\n      <th>A</th>\n    </tr>\n  </thead>\n  <tbody>\n    <tr>\n      <th>2013-01-01</th>\n      <td>0.757114</td>\n      <td>0.671358</td>\n      <td>0.988169</td>\n      <td>0.059858</td>\n    </tr>\n    <tr>\n      <th>2013-01-02</th>\n      <td>0.572503</td>\n      <td>0.616279</td>\n      <td>0.393781</td>\n      <td>0.235234</td>\n    </tr>\n    <tr>\n      <th>2013-01-03</th>\n      <td>0.021300</td>\n      <td>0.418538</td>\n      <td>0.147542</td>\n      <td>0.733239</td>\n    </tr>\n    <tr>\n      <th>2013-01-04</th>\n      <td>0.001054</td>\n      <td>0.889549</td>\n      <td>0.988362</td>\n      <td>0.272862</td>\n    </tr>\n    <tr>\n      <th>2013-01-05</th>\n      <td>0.896411</td>\n      <td>0.758803</td>\n      <td>0.853958</td>\n      <td>0.742841</td>\n    </tr>\n    <tr>\n      <th>2013-01-06</th>\n      <td>0.866529</td>\n      <td>0.790819</td>\n      <td>0.021197</td>\n      <td>0.095740</td>\n    </tr>\n  </tbody>\n</table>\n</div>"
     },
     "execution_count": 50,
     "metadata": {},
     "output_type": "execute_result"
    }
   ],
   "source": [
    "df.sort_index(axis=1, ascending=False)"
   ],
   "metadata": {
    "collapsed": false,
    "pycharm": {
     "name": "#%%\n"
    }
   }
  },
  {
   "cell_type": "markdown",
   "source": [
    "按值进行排序，可以选择特定列："
   ],
   "metadata": {
    "collapsed": false,
    "pycharm": {
     "name": "#%% md\n"
    }
   }
  },
  {
   "cell_type": "code",
   "execution_count": 51,
   "outputs": [
    {
     "data": {
      "text/plain": "                   A         B         C         D\n2013-01-03  0.733239  0.147542  0.418538  0.021300\n2013-01-02  0.235234  0.393781  0.616279  0.572503\n2013-01-01  0.059858  0.988169  0.671358  0.757114\n2013-01-05  0.742841  0.853958  0.758803  0.896411\n2013-01-06  0.095740  0.021197  0.790819  0.866529\n2013-01-04  0.272862  0.988362  0.889549  0.001054",
      "text/html": "<div>\n<style scoped>\n    .dataframe tbody tr th:only-of-type {\n        vertical-align: middle;\n    }\n\n    .dataframe tbody tr th {\n        vertical-align: top;\n    }\n\n    .dataframe thead th {\n        text-align: right;\n    }\n</style>\n<table border=\"1\" class=\"dataframe\">\n  <thead>\n    <tr style=\"text-align: right;\">\n      <th></th>\n      <th>A</th>\n      <th>B</th>\n      <th>C</th>\n      <th>D</th>\n    </tr>\n  </thead>\n  <tbody>\n    <tr>\n      <th>2013-01-03</th>\n      <td>0.733239</td>\n      <td>0.147542</td>\n      <td>0.418538</td>\n      <td>0.021300</td>\n    </tr>\n    <tr>\n      <th>2013-01-02</th>\n      <td>0.235234</td>\n      <td>0.393781</td>\n      <td>0.616279</td>\n      <td>0.572503</td>\n    </tr>\n    <tr>\n      <th>2013-01-01</th>\n      <td>0.059858</td>\n      <td>0.988169</td>\n      <td>0.671358</td>\n      <td>0.757114</td>\n    </tr>\n    <tr>\n      <th>2013-01-05</th>\n      <td>0.742841</td>\n      <td>0.853958</td>\n      <td>0.758803</td>\n      <td>0.896411</td>\n    </tr>\n    <tr>\n      <th>2013-01-06</th>\n      <td>0.095740</td>\n      <td>0.021197</td>\n      <td>0.790819</td>\n      <td>0.866529</td>\n    </tr>\n    <tr>\n      <th>2013-01-04</th>\n      <td>0.272862</td>\n      <td>0.988362</td>\n      <td>0.889549</td>\n      <td>0.001054</td>\n    </tr>\n  </tbody>\n</table>\n</div>"
     },
     "execution_count": 51,
     "metadata": {},
     "output_type": "execute_result"
    }
   ],
   "source": [
    "df.sort_values(by=['C'])"
   ],
   "metadata": {
    "collapsed": false,
    "pycharm": {
     "name": "#%%\n"
    }
   }
  },
  {
   "cell_type": "markdown",
   "source": [
    "使用 query() 进行查询，十分简洁高效："
   ],
   "metadata": {
    "collapsed": false,
    "pycharm": {
     "name": "#%% md\n"
    }
   }
  },
  {
   "cell_type": "code",
   "execution_count": 52,
   "outputs": [
    {
     "data": {
      "text/plain": "                   A         B         C       D\n2013-01-03  0.733239  0.147542  0.418538  0.0213",
      "text/html": "<div>\n<style scoped>\n    .dataframe tbody tr th:only-of-type {\n        vertical-align: middle;\n    }\n\n    .dataframe tbody tr th {\n        vertical-align: top;\n    }\n\n    .dataframe thead th {\n        text-align: right;\n    }\n</style>\n<table border=\"1\" class=\"dataframe\">\n  <thead>\n    <tr style=\"text-align: right;\">\n      <th></th>\n      <th>A</th>\n      <th>B</th>\n      <th>C</th>\n      <th>D</th>\n    </tr>\n  </thead>\n  <tbody>\n    <tr>\n      <th>2013-01-03</th>\n      <td>0.733239</td>\n      <td>0.147542</td>\n      <td>0.418538</td>\n      <td>0.0213</td>\n    </tr>\n  </tbody>\n</table>\n</div>"
     },
     "execution_count": 52,
     "metadata": {},
     "output_type": "execute_result"
    }
   ],
   "source": [
    "df.query('B < 0.5 and A > 0.5')"
   ],
   "metadata": {
    "collapsed": false,
    "pycharm": {
     "name": "#%%\n"
    }
   }
  }
 ],
 "metadata": {
  "kernelspec": {
   "display_name": "Python 3",
   "language": "python",
   "name": "python3"
  },
  "language_info": {
   "codemirror_mode": {
    "name": "ipython",
    "version": 2
   },
   "file_extension": ".py",
   "mimetype": "text/x-python",
   "name": "python",
   "nbconvert_exporter": "python",
   "pygments_lexer": "ipython2",
   "version": "2.7.6"
  }
 },
 "nbformat": 4,
 "nbformat_minor": 0
}