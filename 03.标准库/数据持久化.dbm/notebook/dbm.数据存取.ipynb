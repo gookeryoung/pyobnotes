{
 "cells": [
  {
   "cell_type": "code",
   "execution_count": 46,
   "metadata": {
    "collapsed": true,
    "pycharm": {
     "name": "#%%\n"
    }
   },
   "outputs": [
    {
     "name": "stdout",
     "output_type": "stream",
     "text": [
      "['open', 'whichdb', 'error']\n"
     ]
    }
   ],
   "source": [
    "import dbm\n",
    "import datetime\n",
    "\n",
    "print(dbm.__all__)"
   ]
  },
  {
   "cell_type": "markdown",
   "source": [
    "## 创建数据库"
   ],
   "metadata": {
    "collapsed": false,
    "pycharm": {
     "name": "#%% md\n"
    }
   }
  },
  {
   "cell_type": "code",
   "execution_count": 47,
   "outputs": [],
   "source": [
    "with dbm.open(file='data/test_dbm.db', flag='c') as db:\n",
    "    db['key'] = 'value'\n",
    "    db['today'] = str(datetime.datetime.now())\n",
    "    db['author'] = 'Jack'"
   ],
   "metadata": {
    "collapsed": false,
    "pycharm": {
     "name": "#%%\n"
    }
   }
  },
  {
   "cell_type": "code",
   "execution_count": 48,
   "outputs": [
    {
     "name": "stdout",
     "output_type": "stream",
     "text": [
      "dbm.dumb\n"
     ]
    }
   ],
   "source": [
    "print(dbm.whichdb('data/test_dbm.db'))"
   ],
   "metadata": {
    "collapsed": false,
    "pycharm": {
     "name": "#%%\n"
    }
   }
  },
  {
   "cell_type": "markdown",
   "source": [
    "## 打开数据库"
   ],
   "metadata": {
    "collapsed": false,
    "pycharm": {
     "name": "#%% md\n"
    }
   }
  },
  {
   "cell_type": "code",
   "execution_count": 49,
   "outputs": [
    {
     "name": "stdout",
     "output_type": "stream",
     "text": [
      "keys: [b'key', b'today', b'author']\n",
      "iterating: b'key' -> b'value'\n",
      "iterating: b'today' -> b'2022-08-20 11:35:18.240674'\n",
      "iterating: b'author' -> b'Jack'\n",
      "db[\"author\"]=b'Jack'\n",
      "flag=True\n",
      "k[b'key']=b'value'\n",
      "k[b'today']=b'2022-08-20 11:35:18.240674'\n",
      "k[b'author']=b'Jack'\n",
      "value=b'value'\n",
      "value=b'2022-08-20 11:35:18.240674'\n",
      "value=b'Jack'\n"
     ]
    }
   ],
   "source": [
    "with dbm.open('data/test_dbm.db') as db:\n",
    "    print(f'keys: {db.keys()}')\n",
    "    for k in db.keys():\n",
    "        print(f'iterating: {k} -> {db[k]}')\n",
    "    print(f'db[\"author\"]={db[\"author\"]}')\n",
    "\n",
    "    flag = 'key' in db\n",
    "    print(f'flag={flag}')\n",
    "\n",
    "    for k, v in db.items():\n",
    "        print(f'k[{k}]={v}')\n",
    "\n",
    "    for value in db.values():\n",
    "        print(f'value={value}')"
   ],
   "metadata": {
    "collapsed": false,
    "pycharm": {
     "name": "#%%\n"
    }
   }
  }
 ],
 "metadata": {
  "kernelspec": {
   "display_name": "Python 3",
   "language": "python",
   "name": "python3"
  },
  "language_info": {
   "codemirror_mode": {
    "name": "ipython",
    "version": 2
   },
   "file_extension": ".py",
   "mimetype": "text/x-python",
   "name": "python",
   "nbconvert_exporter": "python",
   "pygments_lexer": "ipython2",
   "version": "2.7.6"
  }
 },
 "nbformat": 4,
 "nbformat_minor": 0
}