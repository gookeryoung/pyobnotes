{
 "cells": [
  {
   "cell_type": "markdown",
   "source": [
    "# bisect -- 数组二分查找算法\n",
    "\n",
    "这个模块对有序列表提供了支持，使得他们可以在插入新数据仍然保持有序。对于长列表，如果其包含元素的比较操作十分昂贵的话，这可以是对更常见方法的改进。这个模块叫做 bisect 因为其使用了基本的二分（bisection）算法。源代码也可以作为很棒的算法示例（边界判断也做好啦！）"
   ],
   "metadata": {
    "collapsed": false,
    "pycharm": {
     "name": "#%% md\n"
    }
   }
  },
  {
   "cell_type": "markdown",
   "source": [
    "## bisect.bisect_left(a, x, lo=0, hi=len(a), *, key=None)\n",
    "\n",
    "在 a 中找到 x 合适的插入点以维持有序。参数 lo 和 hi 可以被用于确定需要考虑的子集；默认情况下整个列表都会被使用。如果 x 已经在 a 里存在，那么插入点会在已存在元素之前（也就是左边）。如果 a 是列表（list）的话，返回值是可以被放在 list.insert() 的第一个参数的。"
   ],
   "metadata": {
    "collapsed": false,
    "pycharm": {
     "name": "#%% md\n"
    }
   }
  },
  {
   "cell_type": "markdown",
   "source": [
    "### 示例"
   ],
   "metadata": {
    "collapsed": false,
    "pycharm": {
     "name": "#%% md\n"
    }
   }
  },
  {
   "cell_type": "code",
   "execution_count": 188,
   "outputs": [
    {
     "name": "stdout",
     "output_type": "stream",
     "text": [
      "D ['F', 'C', 'B', 'D', 'A', 'A']\n"
     ]
    }
   ],
   "source": [
    "# example_bisect_bisect\n",
    "\n",
    "from bisect import bisect\n",
    "\n",
    "def grade(score: int):\n",
    "\tbreakpoints = tuple(range(60, 100, 10))\n",
    "\tgrades = 'FDCBA'\n",
    "\ti = bisect(breakpoints, score)\n",
    "\treturn grades[i]\n",
    "\n",
    "r1 = grade(63)\n",
    "# {str} 'D'\n",
    "r2 = [grade(x) for x in (55, 75, 82, 63, 91, 100)]\n",
    "# {list: 6} ['F', 'C', 'B', 'D', 'A', 'A']\n",
    "print(r1, r2)"
   ],
   "metadata": {
    "collapsed": false,
    "pycharm": {
     "name": "#%%\n"
    }
   }
  },
  {
   "cell_type": "markdown",
   "source": [
    "## insort\n",
    "\n",
    "按照已排序顺序将 x 插入到 a 中。\n",
    "\n",
    "此函数首先会运行 bisect_left() 来定位一个插入点。 然后，它会在 a 上运行 insert() 方法在正确的位置插入 x 以保持排序顺序。\n",
    "\n",
    "为了支持将记录插入到表中，key 函数（如果存在）将被应用到 x 用于搜索步骤但不会用于插入步骤。"
   ],
   "metadata": {
    "collapsed": false,
    "pycharm": {
     "name": "#%% md\n"
    }
   }
  },
  {
   "cell_type": "code",
   "execution_count": 189,
   "outputs": [
    {
     "name": "stdout",
     "output_type": "stream",
     "text": [
      "10 -> [10]\n",
      " 0 -> [0, 10]\n",
      " 6 -> [0, 6, 10]\n",
      " 8 -> [0, 6, 8, 10]\n",
      " 7 -> [0, 6, 7, 8, 10]\n",
      " 2 -> [0, 2, 6, 7, 8, 10]\n",
      "10 -> [0, 2, 6, 7, 8, 10, 10]\n"
     ]
    }
   ],
   "source": [
    "# example_bisect_insort\n",
    "\n",
    "from bisect import insort\n",
    "from random import randrange, seed\n",
    "\n",
    "SIZE = 7\n",
    "seed(1729)\n",
    "\n",
    "lis = []\n",
    "for i in range(SIZE):\n",
    "\titem = randrange(SIZE * 2)\n",
    "\tinsort(lis, item)\n",
    "\tprint(f'{item:2d} -> {lis}')"
   ],
   "metadata": {
    "collapsed": false,
    "pycharm": {
     "name": "#%%\n"
    }
   }
  }
 ],
 "metadata": {
  "kernelspec": {
   "display_name": "Python 3",
   "language": "python",
   "name": "python3"
  },
  "language_info": {
   "codemirror_mode": {
    "name": "ipython",
    "version": 2
   },
   "file_extension": ".py",
   "mimetype": "text/x-python",
   "name": "python",
   "nbconvert_exporter": "python",
   "pygments_lexer": "ipython2",
   "version": "2.7.6"
  }
 },
 "nbformat": 4,
 "nbformat_minor": 0
}