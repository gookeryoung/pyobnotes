{
 "cells": [
  {
   "cell_type": "code",
   "execution_count": 39,
   "metadata": {
    "collapsed": true,
    "pycharm": {
     "name": "#%%\n"
    }
   },
   "outputs": [],
   "source": [
    "import pickle\n",
    "import typing\n",
    "from time import perf_counter as tpc\n",
    "\n",
    "import numpy as np\n",
    "\n",
    "number_count = 50000000\n",
    "arr = np.random.random(number_count)"
   ]
  },
  {
   "cell_type": "code",
   "execution_count": 40,
   "outputs": [],
   "source": [
    "def clock(func: typing.Callable) -> typing.Callable:\n",
    "    def clocked(*args):\n",
    "        t0 = tpc()\n",
    "        result = func(*args)\n",
    "        elapsed = tpc() - t0\n",
    "        name = func.__name__\n",
    "        arg_str = ', '.join(repr(arg) for arg in args)\n",
    "        print(f'Time used: {elapsed:0.8f}s, function: {name}({arg_str}), return: {result}')\n",
    "        return result\n",
    "\n",
    "    return clocked"
   ],
   "metadata": {
    "collapsed": false,
    "pycharm": {
     "name": "#%%\n"
    }
   }
  },
  {
   "cell_type": "code",
   "execution_count": 41,
   "outputs": [
    {
     "name": "stdout",
     "output_type": "stream",
     "text": [
      "Time used: 0.55259040s, function: read_with_numpy(), return: None\n"
     ]
    }
   ],
   "source": [
    "@clock\n",
    "def read_with_numpy() -> None:\n",
    "    with open('floats.bin', 'wb') as f:\n",
    "        np.save(f, arr)\n",
    "\n",
    "\n",
    "read_with_numpy()"
   ],
   "metadata": {
    "collapsed": false,
    "pycharm": {
     "name": "#%%\n"
    }
   }
  },
  {
   "cell_type": "code",
   "execution_count": 42,
   "outputs": [
    {
     "name": "stdout",
     "output_type": "stream",
     "text": [
      "Time used: 0.83133720s, function: read_with_pickle(), return: None\n"
     ]
    }
   ],
   "source": [
    "@clock\n",
    "def read_with_pickle() -> None:\n",
    "    with open('floats.pkl', 'wb') as f:\n",
    "        pickle.dump(arr, f)\n",
    "\n",
    "\n",
    "read_with_pickle()"
   ],
   "metadata": {
    "collapsed": false,
    "pycharm": {
     "name": "#%%\n"
    }
   }
  },
  {
   "cell_type": "code",
   "execution_count": 43,
   "outputs": [
    {
     "name": "stdout",
     "output_type": "stream",
     "text": [
      "50000000 0.21048030639450332\n",
      "Time used: 0.13448140s, function: load_with_numpy(), return: None\n"
     ]
    }
   ],
   "source": [
    "@clock\n",
    "def load_with_numpy():\n",
    "    with open('floats.bin', 'rb') as f:\n",
    "        arr2 = np.load(f)\n",
    "        print(len(arr2), arr2[-1])\n",
    "\n",
    "\n",
    "load_with_numpy()"
   ],
   "metadata": {
    "collapsed": false,
    "pycharm": {
     "name": "#%%\n"
    }
   }
  },
  {
   "cell_type": "code",
   "execution_count": 44,
   "outputs": [
    {
     "name": "stdout",
     "output_type": "stream",
     "text": [
      "50000000 0.21048030639450332\n",
      "Time used: 0.13851690s, function: load_with_pickle(), return: None\n"
     ]
    }
   ],
   "source": [
    "@clock\n",
    "def load_with_pickle():\n",
    "    with open('floats.pkl', 'rb') as f:\n",
    "        arr3 = pickle.load(f)\n",
    "        print(len(arr3), arr3[-1])\n",
    "\n",
    "load_with_pickle()"
   ],
   "metadata": {
    "collapsed": false,
    "pycharm": {
     "name": "#%%\n"
    }
   }
  }
 ],
 "metadata": {
  "kernelspec": {
   "display_name": "Python 3",
   "language": "python",
   "name": "python3"
  },
  "language_info": {
   "codemirror_mode": {
    "name": "ipython",
    "version": 2
   },
   "file_extension": ".py",
   "mimetype": "text/x-python",
   "name": "python",
   "nbconvert_exporter": "python",
   "pygments_lexer": "ipython2",
   "version": "2.7.6"
  }
 },
 "nbformat": 4,
 "nbformat_minor": 0
}