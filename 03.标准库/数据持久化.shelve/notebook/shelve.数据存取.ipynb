{
 "cells": [
  {
   "cell_type": "markdown",
   "source": [
    "## 数据写入"
   ],
   "metadata": {
    "collapsed": false,
    "pycharm": {
     "name": "#%% md\n"
    }
   }
  },
  {
   "cell_type": "code",
   "execution_count": 3,
   "outputs": [],
   "source": [
    "import shelve\n",
    "\n",
    "with shelve.open('data/test_shelf.db') as s:\n",
    "    s['key_sample'] = {'int_x': 10, 'float_number': 0.5, 'str_name': 'jack lee'}"
   ],
   "metadata": {
    "collapsed": false,
    "pycharm": {
     "name": "#%%\n"
    }
   }
  },
  {
   "cell_type": "markdown",
   "source": [
    "## 数据读取"
   ],
   "metadata": {
    "collapsed": false,
    "pycharm": {
     "name": "#%% md\n"
    }
   }
  },
  {
   "cell_type": "code",
   "execution_count": 4,
   "outputs": [
    {
     "name": "stdout",
     "output_type": "stream",
     "text": [
      "{'int_x': 10, 'float_number': 0.5, 'str_name': 'jack lee'}\n"
     ]
    }
   ],
   "source": [
    "with shelve.open('data/test_shelf.db') as s:\n",
    "    data_read = s['key_sample']\n",
    "\n",
    "print(data_read)"
   ],
   "metadata": {
    "collapsed": false,
    "pycharm": {
     "name": "#%%\n"
    }
   }
  },
  {
   "cell_type": "markdown",
   "source": [
    "如果不希望在读取的时候修改数据库的值，建议传入参数 `flag='r'`："
   ],
   "metadata": {
    "collapsed": false,
    "pycharm": {
     "name": "#%% md\n"
    }
   }
  },
  {
   "cell_type": "code",
   "execution_count": 5,
   "outputs": [
    {
     "name": "stdout",
     "output_type": "stream",
     "text": [
      "Existing:  {'int_x': 10, 'float_number': 0.5, 'str_name': 'jack lee'}\n",
      "Error: The database is opened for reading only\n"
     ]
    }
   ],
   "source": [
    "import dbm\n",
    "import shelve\n",
    "\n",
    "with shelve.open('data/test_shelf.db', flag='r') as s:\n",
    "    print('Existing: ', s['key_sample'])\n",
    "    try:\n",
    "        s['key_sample'] = 'new value'\n",
    "    except dbm.error as err:\n",
    "        print(f'Error: {err}')"
   ],
   "metadata": {
    "collapsed": false,
    "pycharm": {
     "name": "#%%\n"
    }
   }
  }
 ],
 "metadata": {
  "kernelspec": {
   "display_name": "Python 3",
   "language": "python",
   "name": "python3"
  },
  "language_info": {
   "codemirror_mode": {
    "name": "ipython",
    "version": 2
   },
   "file_extension": ".py",
   "mimetype": "text/x-python",
   "name": "python",
   "nbconvert_exporter": "python",
   "pygments_lexer": "ipython2",
   "version": "2.7.6"
  }
 },
 "nbformat": 4,
 "nbformat_minor": 0
}