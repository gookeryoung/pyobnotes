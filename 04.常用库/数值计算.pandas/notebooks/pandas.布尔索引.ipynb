{
 "cells": [
  {
   "cell_type": "markdown",
   "source": [
    "# 布尔索引"
   ],
   "metadata": {
    "collapsed": false,
    "pycharm": {
     "name": "#%% md\n"
    }
   }
  },
  {
   "cell_type": "markdown",
   "source": [
    "首先生成数据："
   ],
   "metadata": {
    "collapsed": false,
    "pycharm": {
     "name": "#%% md\n"
    }
   }
  },
  {
   "cell_type": "code",
   "execution_count": 52,
   "metadata": {
    "collapsed": true,
    "pycharm": {
     "name": "#%%\n"
    }
   },
   "outputs": [
    {
     "data": {
      "text/plain": "                   A         B         C         D\n2013-01-01  0.933532  0.904916  0.813344  0.054131\n2013-01-02  0.532072  0.425427  0.209373  0.311181\n2013-01-03  0.246667  0.092706  0.823747  0.994064\n2013-01-04  0.574694  0.469739  0.553898  0.369439\n2013-01-05  0.036364  0.082365  0.180292  0.338653\n2013-01-06  0.830228  0.078377  0.454289  0.317386",
      "text/html": "<div>\n<style scoped>\n    .dataframe tbody tr th:only-of-type {\n        vertical-align: middle;\n    }\n\n    .dataframe tbody tr th {\n        vertical-align: top;\n    }\n\n    .dataframe thead th {\n        text-align: right;\n    }\n</style>\n<table border=\"1\" class=\"dataframe\">\n  <thead>\n    <tr style=\"text-align: right;\">\n      <th></th>\n      <th>A</th>\n      <th>B</th>\n      <th>C</th>\n      <th>D</th>\n    </tr>\n  </thead>\n  <tbody>\n    <tr>\n      <th>2013-01-01</th>\n      <td>0.933532</td>\n      <td>0.904916</td>\n      <td>0.813344</td>\n      <td>0.054131</td>\n    </tr>\n    <tr>\n      <th>2013-01-02</th>\n      <td>0.532072</td>\n      <td>0.425427</td>\n      <td>0.209373</td>\n      <td>0.311181</td>\n    </tr>\n    <tr>\n      <th>2013-01-03</th>\n      <td>0.246667</td>\n      <td>0.092706</td>\n      <td>0.823747</td>\n      <td>0.994064</td>\n    </tr>\n    <tr>\n      <th>2013-01-04</th>\n      <td>0.574694</td>\n      <td>0.469739</td>\n      <td>0.553898</td>\n      <td>0.369439</td>\n    </tr>\n    <tr>\n      <th>2013-01-05</th>\n      <td>0.036364</td>\n      <td>0.082365</td>\n      <td>0.180292</td>\n      <td>0.338653</td>\n    </tr>\n    <tr>\n      <th>2013-01-06</th>\n      <td>0.830228</td>\n      <td>0.078377</td>\n      <td>0.454289</td>\n      <td>0.317386</td>\n    </tr>\n  </tbody>\n</table>\n</div>"
     },
     "execution_count": 52,
     "metadata": {},
     "output_type": "execute_result"
    }
   ],
   "source": [
    "import pandas as pd\n",
    "import numpy as np\n",
    "\n",
    "dates = pd.date_range('20130101', periods=6, freq='D')\n",
    "df = pd.DataFrame(np.random.rand(6, 4), index=dates, columns=list('ABCD'))\n",
    "df"
   ]
  },
  {
   "cell_type": "markdown",
   "source": [
    "使用布尔判断条件进行索引："
   ],
   "metadata": {
    "collapsed": false,
    "pycharm": {
     "name": "#%% md\n"
    }
   }
  },
  {
   "cell_type": "code",
   "execution_count": 53,
   "outputs": [
    {
     "data": {
      "text/plain": "                   A         B         C         D\n2013-01-01  0.933532  0.904916  0.813344  0.054131\n2013-01-02  0.532072  0.425427  0.209373  0.311181\n2013-01-04  0.574694  0.469739  0.553898  0.369439\n2013-01-06  0.830228  0.078377  0.454289  0.317386",
      "text/html": "<div>\n<style scoped>\n    .dataframe tbody tr th:only-of-type {\n        vertical-align: middle;\n    }\n\n    .dataframe tbody tr th {\n        vertical-align: top;\n    }\n\n    .dataframe thead th {\n        text-align: right;\n    }\n</style>\n<table border=\"1\" class=\"dataframe\">\n  <thead>\n    <tr style=\"text-align: right;\">\n      <th></th>\n      <th>A</th>\n      <th>B</th>\n      <th>C</th>\n      <th>D</th>\n    </tr>\n  </thead>\n  <tbody>\n    <tr>\n      <th>2013-01-01</th>\n      <td>0.933532</td>\n      <td>0.904916</td>\n      <td>0.813344</td>\n      <td>0.054131</td>\n    </tr>\n    <tr>\n      <th>2013-01-02</th>\n      <td>0.532072</td>\n      <td>0.425427</td>\n      <td>0.209373</td>\n      <td>0.311181</td>\n    </tr>\n    <tr>\n      <th>2013-01-04</th>\n      <td>0.574694</td>\n      <td>0.469739</td>\n      <td>0.553898</td>\n      <td>0.369439</td>\n    </tr>\n    <tr>\n      <th>2013-01-06</th>\n      <td>0.830228</td>\n      <td>0.078377</td>\n      <td>0.454289</td>\n      <td>0.317386</td>\n    </tr>\n  </tbody>\n</table>\n</div>"
     },
     "execution_count": 53,
     "metadata": {},
     "output_type": "execute_result"
    }
   ],
   "source": [
    "df[df['A'] > 0.4]"
   ],
   "metadata": {
    "collapsed": false,
    "pycharm": {
     "name": "#%%\n"
    }
   }
  },
  {
   "cell_type": "code",
   "execution_count": 54,
   "outputs": [
    {
     "data": {
      "text/plain": "                   A         B         C         D\n2013-01-01  0.933532  0.904916  0.813344       NaN\n2013-01-02  0.532072       NaN       NaN       NaN\n2013-01-03       NaN       NaN  0.823747  0.994064\n2013-01-04  0.574694       NaN  0.553898       NaN\n2013-01-05       NaN       NaN       NaN       NaN\n2013-01-06  0.830228       NaN       NaN       NaN",
      "text/html": "<div>\n<style scoped>\n    .dataframe tbody tr th:only-of-type {\n        vertical-align: middle;\n    }\n\n    .dataframe tbody tr th {\n        vertical-align: top;\n    }\n\n    .dataframe thead th {\n        text-align: right;\n    }\n</style>\n<table border=\"1\" class=\"dataframe\">\n  <thead>\n    <tr style=\"text-align: right;\">\n      <th></th>\n      <th>A</th>\n      <th>B</th>\n      <th>C</th>\n      <th>D</th>\n    </tr>\n  </thead>\n  <tbody>\n    <tr>\n      <th>2013-01-01</th>\n      <td>0.933532</td>\n      <td>0.904916</td>\n      <td>0.813344</td>\n      <td>NaN</td>\n    </tr>\n    <tr>\n      <th>2013-01-02</th>\n      <td>0.532072</td>\n      <td>NaN</td>\n      <td>NaN</td>\n      <td>NaN</td>\n    </tr>\n    <tr>\n      <th>2013-01-03</th>\n      <td>NaN</td>\n      <td>NaN</td>\n      <td>0.823747</td>\n      <td>0.994064</td>\n    </tr>\n    <tr>\n      <th>2013-01-04</th>\n      <td>0.574694</td>\n      <td>NaN</td>\n      <td>0.553898</td>\n      <td>NaN</td>\n    </tr>\n    <tr>\n      <th>2013-01-05</th>\n      <td>NaN</td>\n      <td>NaN</td>\n      <td>NaN</td>\n      <td>NaN</td>\n    </tr>\n    <tr>\n      <th>2013-01-06</th>\n      <td>0.830228</td>\n      <td>NaN</td>\n      <td>NaN</td>\n      <td>NaN</td>\n    </tr>\n  </tbody>\n</table>\n</div>"
     },
     "execution_count": 54,
     "metadata": {},
     "output_type": "execute_result"
    }
   ],
   "source": [
    "df[df > 0.5]"
   ],
   "metadata": {
    "collapsed": false,
    "pycharm": {
     "name": "#%%\n"
    }
   }
  },
  {
   "cell_type": "code",
   "execution_count": 55,
   "outputs": [
    {
     "data": {
      "text/plain": "                   A         B         C         D      E\n2013-01-01  0.933532  0.904916  0.813344  0.054131    one\n2013-01-02  0.532072  0.425427  0.209373  0.311181    one\n2013-01-03  0.246667  0.092706  0.823747  0.994064    two\n2013-01-04  0.574694  0.469739  0.553898  0.369439  three\n2013-01-05  0.036364  0.082365  0.180292  0.338653   four\n2013-01-06  0.830228  0.078377  0.454289  0.317386  three",
      "text/html": "<div>\n<style scoped>\n    .dataframe tbody tr th:only-of-type {\n        vertical-align: middle;\n    }\n\n    .dataframe tbody tr th {\n        vertical-align: top;\n    }\n\n    .dataframe thead th {\n        text-align: right;\n    }\n</style>\n<table border=\"1\" class=\"dataframe\">\n  <thead>\n    <tr style=\"text-align: right;\">\n      <th></th>\n      <th>A</th>\n      <th>B</th>\n      <th>C</th>\n      <th>D</th>\n      <th>E</th>\n    </tr>\n  </thead>\n  <tbody>\n    <tr>\n      <th>2013-01-01</th>\n      <td>0.933532</td>\n      <td>0.904916</td>\n      <td>0.813344</td>\n      <td>0.054131</td>\n      <td>one</td>\n    </tr>\n    <tr>\n      <th>2013-01-02</th>\n      <td>0.532072</td>\n      <td>0.425427</td>\n      <td>0.209373</td>\n      <td>0.311181</td>\n      <td>one</td>\n    </tr>\n    <tr>\n      <th>2013-01-03</th>\n      <td>0.246667</td>\n      <td>0.092706</td>\n      <td>0.823747</td>\n      <td>0.994064</td>\n      <td>two</td>\n    </tr>\n    <tr>\n      <th>2013-01-04</th>\n      <td>0.574694</td>\n      <td>0.469739</td>\n      <td>0.553898</td>\n      <td>0.369439</td>\n      <td>three</td>\n    </tr>\n    <tr>\n      <th>2013-01-05</th>\n      <td>0.036364</td>\n      <td>0.082365</td>\n      <td>0.180292</td>\n      <td>0.338653</td>\n      <td>four</td>\n    </tr>\n    <tr>\n      <th>2013-01-06</th>\n      <td>0.830228</td>\n      <td>0.078377</td>\n      <td>0.454289</td>\n      <td>0.317386</td>\n      <td>three</td>\n    </tr>\n  </tbody>\n</table>\n</div>"
     },
     "execution_count": 55,
     "metadata": {},
     "output_type": "execute_result"
    }
   ],
   "source": [
    "df2 = df.copy()\n",
    "df2['E'] = ['one', 'one', 'two', 'three', 'four', 'three']\n",
    "df2"
   ],
   "metadata": {
    "collapsed": false,
    "pycharm": {
     "name": "#%%\n"
    }
   }
  },
  {
   "cell_type": "code",
   "execution_count": 56,
   "outputs": [
    {
     "data": {
      "text/plain": "                   A         B         C         D    E\n2013-01-01  0.933532  0.904916  0.813344  0.054131  one\n2013-01-02  0.532072  0.425427  0.209373  0.311181  one\n2013-01-03  0.246667  0.092706  0.823747  0.994064  two",
      "text/html": "<div>\n<style scoped>\n    .dataframe tbody tr th:only-of-type {\n        vertical-align: middle;\n    }\n\n    .dataframe tbody tr th {\n        vertical-align: top;\n    }\n\n    .dataframe thead th {\n        text-align: right;\n    }\n</style>\n<table border=\"1\" class=\"dataframe\">\n  <thead>\n    <tr style=\"text-align: right;\">\n      <th></th>\n      <th>A</th>\n      <th>B</th>\n      <th>C</th>\n      <th>D</th>\n      <th>E</th>\n    </tr>\n  </thead>\n  <tbody>\n    <tr>\n      <th>2013-01-01</th>\n      <td>0.933532</td>\n      <td>0.904916</td>\n      <td>0.813344</td>\n      <td>0.054131</td>\n      <td>one</td>\n    </tr>\n    <tr>\n      <th>2013-01-02</th>\n      <td>0.532072</td>\n      <td>0.425427</td>\n      <td>0.209373</td>\n      <td>0.311181</td>\n      <td>one</td>\n    </tr>\n    <tr>\n      <th>2013-01-03</th>\n      <td>0.246667</td>\n      <td>0.092706</td>\n      <td>0.823747</td>\n      <td>0.994064</td>\n      <td>two</td>\n    </tr>\n  </tbody>\n</table>\n</div>"
     },
     "execution_count": 56,
     "metadata": {},
     "output_type": "execute_result"
    }
   ],
   "source": [
    "df2[df2['E'].isin(['one', 'two'])]"
   ],
   "metadata": {
    "collapsed": false,
    "pycharm": {
     "name": "#%%\n"
    }
   }
  },
  {
   "cell_type": "markdown",
   "source": [
    "也可以使用更为简单的 query 进行处理："
   ],
   "metadata": {
    "collapsed": false,
    "pycharm": {
     "name": "#%% md\n"
    }
   }
  },
  {
   "cell_type": "code",
   "execution_count": 57,
   "outputs": [
    {
     "data": {
      "text/plain": "                   A         B         C         D      E\n2013-01-01  0.933532  0.904916  0.813344  0.054131    one\n2013-01-03  0.246667  0.092706  0.823747  0.994064    two\n2013-01-06  0.830228  0.078377  0.454289  0.317386  three",
      "text/html": "<div>\n<style scoped>\n    .dataframe tbody tr th:only-of-type {\n        vertical-align: middle;\n    }\n\n    .dataframe tbody tr th {\n        vertical-align: top;\n    }\n\n    .dataframe thead th {\n        text-align: right;\n    }\n</style>\n<table border=\"1\" class=\"dataframe\">\n  <thead>\n    <tr style=\"text-align: right;\">\n      <th></th>\n      <th>A</th>\n      <th>B</th>\n      <th>C</th>\n      <th>D</th>\n      <th>E</th>\n    </tr>\n  </thead>\n  <tbody>\n    <tr>\n      <th>2013-01-01</th>\n      <td>0.933532</td>\n      <td>0.904916</td>\n      <td>0.813344</td>\n      <td>0.054131</td>\n      <td>one</td>\n    </tr>\n    <tr>\n      <th>2013-01-03</th>\n      <td>0.246667</td>\n      <td>0.092706</td>\n      <td>0.823747</td>\n      <td>0.994064</td>\n      <td>two</td>\n    </tr>\n    <tr>\n      <th>2013-01-06</th>\n      <td>0.830228</td>\n      <td>0.078377</td>\n      <td>0.454289</td>\n      <td>0.317386</td>\n      <td>three</td>\n    </tr>\n  </tbody>\n</table>\n</div>"
     },
     "execution_count": 57,
     "metadata": {},
     "output_type": "execute_result"
    }
   ],
   "source": [
    "df2.query('A > 0.5 and B < 0.4 or C > 0.7')"
   ],
   "metadata": {
    "collapsed": false,
    "pycharm": {
     "name": "#%%\n"
    }
   }
  },
  {
   "cell_type": "code",
   "execution_count": 57,
   "outputs": [],
   "source": [],
   "metadata": {
    "collapsed": false,
    "pycharm": {
     "name": "#%%\n"
    }
   }
  }
 ],
 "metadata": {
  "kernelspec": {
   "display_name": "Python 3",
   "language": "python",
   "name": "python3"
  },
  "language_info": {
   "codemirror_mode": {
    "name": "ipython",
    "version": 2
   },
   "file_extension": ".py",
   "mimetype": "text/x-python",
   "name": "python",
   "nbconvert_exporter": "python",
   "pygments_lexer": "ipython2",
   "version": "2.7.6"
  }
 },
 "nbformat": 4,
 "nbformat_minor": 0
}